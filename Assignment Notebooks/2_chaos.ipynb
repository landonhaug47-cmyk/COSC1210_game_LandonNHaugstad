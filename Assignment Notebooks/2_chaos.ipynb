{
 "cells": [
  {
   "cell_type": "markdown",
   "id": "09b41502",
   "metadata": {
    "vscode": {
     "languageId": "plaintext"
    }
   },
   "source": [
    "## COSC 1210\n",
    "### print(), input(), value storage and chaos\n",
    "\n",
    "Objectives\n",
    "- use the chaos function to illustrate the importance of value storage"
   ]
  },
  {
   "cell_type": "code",
   "execution_count": 1,
   "id": "b6e1cd88",
   "metadata": {},
   "outputs": [
    {
     "name": "stdout",
     "output_type": "stream",
     "text": [
      "1.0\n"
     ]
    }
   ],
   "source": [
    "\n",
    "def main():\n",
    "    a = 1/3\n",
    "    b = a + a + a\n",
    "    print(b)\n",
    "main()"
   ]
  },
  {
   "cell_type": "markdown",
   "id": "b7800a95",
   "metadata": {},
   "source": [
    "##### Explain why the function above provides an answer that is different than the algebraic solution\n",
    "\n",
    "The variable is rounded to 17 decimal points so the answer is not quite accurate."
   ]
  },
  {
   "cell_type": "code",
   "execution_count": 2,
   "id": "419c95e4",
   "metadata": {},
   "outputs": [
    {
     "name": "stdout",
     "output_type": "stream",
     "text": [
      "b is 1.0\n",
      "c is 0.9999999999999998\n"
     ]
    }
   ],
   "source": [
    "def main():\n",
    "    a = 1/7\n",
    "    b = a * 7\n",
    "    c = a + a + a + a + a + a + a\n",
    "    print(\"b is\", b)\n",
    "    print(\"c is\", c)\n",
    "main()"
   ]
  },
  {
   "cell_type": "markdown",
   "id": "45e9d1a1",
   "metadata": {},
   "source": [
    "##### Explain why b and c provide different answers\n",
    "\n",
    "B rounds the variable less times than c does. This causes more inaccuracies to build up causing a difference in value.\n",
    "\n",
    "##### How large is the difference between c and b?\n",
    "\n",
    "0.0000000000000002\n",
    "\n"
   ]
  },
  {
   "cell_type": "markdown",
   "id": "763a111c",
   "metadata": {},
   "source": [
    "### rounding floats\n",
    "Mathematically, what will be the value of b?\n",
    "\n",
    "It would be 1\n",
    "\n",
    "When calculated by python, what is the value of b?\n",
    "\n",
    "Since it rounded automatically it would be 1 and unrounded would be about 0.9999999999998"
   ]
  },
  {
   "cell_type": "code",
   "execution_count": 4,
   "id": "704054ee",
   "metadata": {},
   "outputs": [
    {
     "name": "stdout",
     "output_type": "stream",
     "text": [
      "This program illustrates a chaotic function\n",
      "For 100 iterations, x1 is: 0.5126527786207501\n"
     ]
    }
   ],
   "source": [
    "def main():\n",
    "    print(\"This program illustrates a chaotic function\")\n",
    "    iterations = 100\n",
    "    x1 = 0.15\n",
    "    for i in range(iterations):\n",
    "        x1 = 3.9 * x1 * (1 - x1)\n",
    "    print(\"For\", iterations, \"iterations, x1 is:\", x1)\n",
    "main()"
   ]
  },
  {
   "cell_type": "markdown",
   "id": "335eda4a",
   "metadata": {},
   "source": [
    "##### If you calculate x1 for 10 iterations vs 100 iterations, what answers do you get?\n",
    "\n",
    "for 10 iterations: 0.9735732406265619\n",
    "\n",
    "for 100 iterations: 0.5126527786207501\n",
    "\n",
    "##### What are these different?\n",
    "They are different because they are rounded a different number of times. Since 100 iterations uses the variable rounding a lot, it will become less accurate.\n"
   ]
  },
  {
   "cell_type": "code",
   "execution_count": 8,
   "id": "2b07c024",
   "metadata": {},
   "outputs": [
    {
     "name": "stdout",
     "output_type": "stream",
     "text": [
      "This program illustrates a chaotic function\n",
      "For 10 iternations, x1 is now 0.9735732406265619 and x2 is now 0.9735732406265659\n"
     ]
    }
   ],
   "source": [
    "def main():\n",
    "    print(\"This program illustrates a chaotic function\")\n",
    "    iterations = 10\n",
    "    x1 = 0.15\n",
    "    x2 = 0.15\n",
    "    for i in range(iterations):\n",
    "        x1 = 3.9 * x1 * (1 - x1)\n",
    "        x2 = 3.9 * (x2 - x2 * x2)\n",
    "    print(\"For\", iterations, \"iternations, x1 is now\", x1, \"and x2 is now\", x2)\n",
    "main()"
   ]
  },
  {
   "cell_type": "markdown",
   "id": "2d137bda",
   "metadata": {},
   "source": [
    "##### If you calculate x1 and x2 for 10 iterations vs 100 iterations, what answers do you get?\n",
    "\n",
    "x1 10 iterations: 0.9735732406265619 \n",
    "\n",
    "x2 10 iterations: 0.9735732406265659\n",
    "\n",
    "\n",
    "\n",
    "x1 100 iterations: 0.5126527786207501 \n",
    "\n",
    "x2 100 iterations: 0.16411537941360743\n",
    "\n",
    "##### Why are these different?\n",
    "These are different because x2 uses the variable more times than x1. This causes more inaccuracies compared to x1 when having the same amount of iterations."
   ]
  },
  {
   "cell_type": "code",
   "execution_count": 2,
   "id": "463cb691",
   "metadata": {},
   "outputs": [
    {
     "name": "stdout",
     "output_type": "stream",
     "text": [
      "This program illustrates a chaotic function\n",
      "For 23 iternations, x1 is now 0.7988018086971822 and x2 is now 0.7988018086646516\n"
     ]
    }
   ],
   "source": [
    "### Rewrite the chaos function so that the user can enter x (iterations?)\n",
    "def main():\n",
    "    print(\"This program illustrates a chaotic function\")\n",
    "    userinput = input(\"Enter number of iterations: \")\n",
    "    iterations = eval(userinput)\n",
    "    x1 = 0.15\n",
    "    x2 = 0.15\n",
    "    for i in range(iterations):\n",
    "        x1 = 3.9 * x1 * (1 - x1)\n",
    "        x2 = 3.9 * (x2 - x2 * x2)\n",
    "    print(\"For\", iterations, \"iternations, x1 is now\", x1, \"and x2 is now\", x2)\n",
    "main()"
   ]
  }
 ],
 "metadata": {
  "kernelspec": {
   "display_name": "Python 3",
   "language": "python",
   "name": "python3"
  },
  "language_info": {
   "codemirror_mode": {
    "name": "ipython",
    "version": 3
   },
   "file_extension": ".py",
   "mimetype": "text/x-python",
   "name": "python",
   "nbconvert_exporter": "python",
   "pygments_lexer": "ipython3",
   "version": "3.13.7"
  }
 },
 "nbformat": 4,
 "nbformat_minor": 5
}
